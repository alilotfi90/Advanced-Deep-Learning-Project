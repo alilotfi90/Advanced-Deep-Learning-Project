{
  "nbformat": 4,
  "nbformat_minor": 0,
  "metadata": {
    "colab": {
      "provenance": [],
      "machine_shape": "hm",
      "mount_file_id": "1d4jbk7Pii6OwuBltASwNZP9sc4o5zDD_",
      "authorship_tag": "ABX9TyNCkNysjSUxz7BOSGsccmfe",
      "include_colab_link": true
    },
    "kernelspec": {
      "name": "python3",
      "display_name": "Python 3"
    },
    "language_info": {
      "name": "python"
    },
    "accelerator": "TPU",
    "gpuClass": "premium"
  },
  "cells": [
    {
      "cell_type": "markdown",
      "metadata": {
        "id": "view-in-github",
        "colab_type": "text"
      },
      "source": [
        "<a href=\"https://colab.research.google.com/github/alilotfi90/Advanced-Deep-Learning-Project/blob/main/MobileNet_opt_model.ipynb\" target=\"_parent\"><img src=\"https://colab.research.google.com/assets/colab-badge.svg\" alt=\"Open In Colab\"/></a>"
      ]
    },
    {
      "cell_type": "code",
      "execution_count": 1,
      "metadata": {
        "colab": {
          "base_uri": "https://localhost:8080/"
        },
        "id": "6XpuAa6h5l3B",
        "outputId": "12110fe0-5475-45a1-c147-0b0e6cd2e201"
      },
      "outputs": [
        {
          "output_type": "stream",
          "name": "stdout",
          "text": [
            "Looking in indexes: https://pypi.org/simple, https://us-python.pkg.dev/colab-wheels/public/simple/\n",
            "Collecting efficientnet_pytorch\n",
            "  Downloading efficientnet_pytorch-0.7.1.tar.gz (21 kB)\n",
            "  Preparing metadata (setup.py) ... \u001b[?25l\u001b[?25hdone\n",
            "Requirement already satisfied: torch in /usr/local/lib/python3.9/dist-packages (from efficientnet_pytorch) (1.13.1+cu116)\n",
            "Requirement already satisfied: typing-extensions in /usr/local/lib/python3.9/dist-packages (from torch->efficientnet_pytorch) (4.5.0)\n",
            "Building wheels for collected packages: efficientnet_pytorch\n",
            "  Building wheel for efficientnet_pytorch (setup.py) ... \u001b[?25l\u001b[?25hdone\n",
            "  Created wheel for efficientnet_pytorch: filename=efficientnet_pytorch-0.7.1-py3-none-any.whl size=16444 sha256=ab585347860f2056b0aac3c4d859e0afca4d24021800f250a226ff6cf8caffe0\n",
            "  Stored in directory: /root/.cache/pip/wheels/29/16/24/752e89d88d333af39a288421e64d613b5f652918e39ef1f8e3\n",
            "Successfully built efficientnet_pytorch\n",
            "Installing collected packages: efficientnet_pytorch\n",
            "Successfully installed efficientnet_pytorch-0.7.1\n"
          ]
        }
      ],
      "source": [
        "!pip install efficientnet_pytorch\n",
        "from zipfile import ZipFile\n",
        "from torch.optim.lr_scheduler import ReduceLROnPlateau\n",
        "import torch.nn as nn\n",
        "import torch.optim as optim\n",
        "import torch\n",
        "import torchvision.transforms as transforms\n",
        "from torchvision.datasets import ImageFolder\n",
        "from torch.utils.data import DataLoader\n",
        "from efficientnet_pytorch import EfficientNet\n",
        "\n",
        "# Extract the training and test data\n",
        "train_zip = '/content/drive/MyDrive/images/train2.zip'\n",
        "test_zip = '/content/drive/MyDrive/images/test2.zip'\n",
        "with ZipFile(train_zip, 'r') as zip:\n",
        "    zip.extractall()\n",
        "with ZipFile(test_zip, 'r') as zip:\n",
        "    zip.extractall()\n",
        "\n",
        "import torch\n",
        "import torch.nn as nn\n",
        "import torch.optim as optim\n",
        "import torchvision.transforms as transforms\n",
        "import torchvision.datasets as datasets\n",
        "import torchvision.models as models"
      ]
    },
    {
      "cell_type": "code",
      "source": [
        "IMG_SIZE = 224\n",
        "BATCH_SIZE = 32"
      ],
      "metadata": {
        "id": "-d2B1OP150N_"
      },
      "execution_count": 9,
      "outputs": []
    },
    {
      "cell_type": "code",
      "source": [
        "train_transform = transforms.Compose([\n",
        "    transforms.RandomRotation(30),\n",
        "    transforms.RandomResizedCrop(IMG_SIZE, scale=(0.85, 1.0)),\n",
        "    transforms.RandomHorizontalFlip(),\n",
        "    transforms.ToTensor(),\n",
        "    transforms.Normalize([0.485, 0.456, 0.406], [0.229, 0.224, 0.225])\n",
        "])\n",
        "\n",
        "valid_transform = transforms.Compose([\n",
        "    transforms.Resize(IMG_SIZE),\n",
        "    transforms.CenterCrop(IMG_SIZE),\n",
        "    transforms.ToTensor(),\n",
        "    transforms.Normalize([0.485, 0.456, 0.406], [0.229, 0.224, 0.225])\n",
        "])"
      ],
      "metadata": {
        "id": "EHQeMQwd8Den"
      },
      "execution_count": 10,
      "outputs": []
    },
    {
      "cell_type": "code",
      "source": [
        "train_dataset = ImageFolder('/content/train', transform=train_transform)\n",
        "valid_dataset = ImageFolder('/content/test', transform=valid_transform)\n",
        "\n",
        "train_loader = DataLoader(train_dataset, batch_size=BATCH_SIZE, shuffle=True)\n",
        "valid_loader = DataLoader(valid_dataset, batch_size=BATCH_SIZE, shuffle=True)\n",
        "\n",
        "# Define the model\n",
        "base_model = models.mobilenet_v2(pretrained=True)\n",
        "base_model = nn.Sequential(*list(base_model.children())[:-1])"
      ],
      "metadata": {
        "id": "4O-7tvxM8Lqv"
      },
      "execution_count": 11,
      "outputs": []
    },
    {
      "cell_type": "code",
      "source": [
        "class MyModel(nn.Module):\n",
        "    def __init__(self):\n",
        "        super(MyModel, self).__init__()\n",
        "        self.base_model = base_model\n",
        "        self.gap = nn.AdaptiveAvgPool2d(1)\n",
        "        self.fc = nn.Linear(1280, 100)  # Assuming you have 100 classes\n",
        "\n",
        "    def forward(self, x):\n",
        "        x = self.base_model(x)\n",
        "        x = self.gap(x)\n",
        "        x = x.view(x.size(0), -1)\n",
        "        x = self.fc(x)\n",
        "        return x\n",
        "\n",
        "model = MyModel()\n",
        "# model.cuda()"
      ],
      "metadata": {
        "id": "3V0Ladij8WMk"
      },
      "execution_count": 12,
      "outputs": []
    },
    {
      "cell_type": "code",
      "source": [
        "# Training the model\n",
        "# device = torch.device(\"cuda:0\" if torch.cuda.is_available() else \"cpu\")\n",
        "# model = model.to(device)\n",
        "# criterion = nn.CrossEntropyLoss()\n",
        "# optimizer = optim.Adam(model.parameters(), lr=0.001)\n",
        "\n"
      ],
      "metadata": {
        "id": "ttcuq4Pl8ys3"
      },
      "execution_count": 13,
      "outputs": []
    },
    {
      "cell_type": "code",
      "source": [
        "from torch.optim.lr_scheduler import ReduceLROnPlateau\n",
        "\n",
        "# Training the model\n",
        "device = torch.device(\"cuda:0\" if torch.cuda.is_available() else \"cpu\")\n",
        "model = model.to(device)\n",
        "criterion = nn.CrossEntropyLoss()\n",
        "optimizer = optim.Adam(model.parameters(), lr=0.001)\n",
        "scheduler = ReduceLROnPlateau(optimizer, mode='min', factor=0.8, patience=2, verbose=True)\n",
        "\n",
        "\n"
      ],
      "metadata": {
        "id": "ZxryZVvG86Mr"
      },
      "execution_count": 14,
      "outputs": []
    },
    {
      "cell_type": "code",
      "source": [
        "for num_epochs in num_epochs_list:\n",
        "  print(\"for max number epoch\", num_epochs)\n",
        "\n",
        "  for epoch in range(num_epochs):\n",
        "      running_loss = 0.0\n",
        "      epoch_loss = []\n",
        "      for i, data in enumerate(train_loader, 0):\n",
        "          inputs, labels = data\n",
        "          inputs, labels = inputs.to(device), labels.to(device)\n",
        "          optimizer.zero_grad()\n",
        "\n",
        "          outputs = model(inputs)\n",
        "          loss = criterion(outputs, labels)\n",
        "          loss.backward()\n",
        "          optimizer.step()\n",
        "\n",
        "          running_loss += loss.item()\n",
        "          epoch_loss.append(loss.item())\n",
        "          if i % 100 == 99:\n",
        "              print('[%d, %5d] loss: %.3f' % (epoch + 1, i + 1, running_loss / 100))\n",
        "              running_loss = 0.0\n",
        "\n",
        "      # Update the learning rate scheduler\n",
        "      scheduler.step(sum(epoch_loss) / len(epoch_loss))\n",
        "\n",
        "  print('Finished training')\n",
        "\n",
        "  # Calculate accuracy\n",
        "  correct = 0\n",
        "  total = 0\n",
        "  with torch.no_grad():\n",
        "      for data in valid_loader:\n",
        "          images, labels = data\n",
        "          images, labels = images.to(device), labels.to(device)\n",
        "          outputs = model(images)\n",
        "          _, predicted = torch.max(outputs.data, 1)\n",
        "          total += labels.size(0)\n",
        "          correct += (predicted == labels).sum().item()\n",
        "\n",
        "  print('Accuracy of the network on the test images: %d %%' % (100 * correct / total))\n"
      ],
      "metadata": {
        "colab": {
          "base_uri": "https://localhost:8080/"
        },
        "id": "U6YcurAB9SM9",
        "outputId": "4566fdbb-e9c1-48d9-e301-62604c6a49cc"
      },
      "execution_count": 15,
      "outputs": [
        {
          "output_type": "stream",
          "name": "stdout",
          "text": [
            "for max number epoch 10\n",
            "[1,   100] loss: 4.255\n",
            "[2,   100] loss: 3.292\n",
            "[3,   100] loss: 2.727\n",
            "[4,   100] loss: 2.356\n",
            "[5,   100] loss: 2.077\n",
            "[6,   100] loss: 1.815\n",
            "[7,   100] loss: 1.711\n",
            "[8,   100] loss: 1.546\n",
            "[9,   100] loss: 1.372\n",
            "[10,   100] loss: 1.265\n",
            "Finished training\n",
            "Accuracy of the network on the test images: 51 %\n",
            "for max number epoch 20\n",
            "[1,   100] loss: 1.204\n",
            "[2,   100] loss: 1.113\n",
            "[3,   100] loss: 1.010\n",
            "[4,   100] loss: 0.918\n",
            "[5,   100] loss: 0.872\n",
            "[6,   100] loss: 0.816\n",
            "[7,   100] loss: 0.776\n",
            "[8,   100] loss: 0.729\n",
            "[9,   100] loss: 0.693\n",
            "[10,   100] loss: 0.602\n",
            "[11,   100] loss: 0.573\n",
            "[12,   100] loss: 0.554\n",
            "[13,   100] loss: 0.504\n",
            "[14,   100] loss: 0.554\n",
            "[15,   100] loss: 0.483\n",
            "[16,   100] loss: 0.484\n",
            "[17,   100] loss: 0.433\n",
            "[18,   100] loss: 0.445\n",
            "[19,   100] loss: 0.424\n",
            "[20,   100] loss: 0.436\n",
            "Finished training\n",
            "Accuracy of the network on the test images: 67 %\n",
            "for max number epoch 40\n",
            "[1,   100] loss: 0.395\n",
            "[2,   100] loss: 0.392\n",
            "[3,   100] loss: 0.377\n",
            "[4,   100] loss: 0.377\n",
            "[5,   100] loss: 0.321\n",
            "[6,   100] loss: 0.335\n",
            "[7,   100] loss: 0.318\n",
            "[8,   100] loss: 0.259\n",
            "[9,   100] loss: 0.264\n",
            "[10,   100] loss: 0.336\n",
            "[11,   100] loss: 0.285\n",
            "Epoch 00041: reducing learning rate of group 0 to 8.0000e-04.\n",
            "[12,   100] loss: 0.192\n",
            "[13,   100] loss: 0.173\n",
            "[14,   100] loss: 0.201\n",
            "[15,   100] loss: 0.161\n",
            "[16,   100] loss: 0.146\n",
            "[17,   100] loss: 0.185\n",
            "[18,   100] loss: 0.188\n",
            "[19,   100] loss: 0.214\n",
            "Epoch 00049: reducing learning rate of group 0 to 6.4000e-04.\n",
            "[20,   100] loss: 0.127\n",
            "[21,   100] loss: 0.085\n",
            "[22,   100] loss: 0.079\n",
            "[23,   100] loss: 0.069\n",
            "[24,   100] loss: 0.071\n",
            "[25,   100] loss: 0.113\n",
            "[26,   100] loss: 0.139\n",
            "Epoch 00056: reducing learning rate of group 0 to 5.1200e-04.\n",
            "[27,   100] loss: 0.078\n",
            "[28,   100] loss: 0.072\n",
            "[29,   100] loss: 0.057\n",
            "[30,   100] loss: 0.053\n",
            "[31,   100] loss: 0.056\n",
            "[32,   100] loss: 0.079\n",
            "[33,   100] loss: 0.070\n",
            "Epoch 00063: reducing learning rate of group 0 to 4.0960e-04.\n",
            "[34,   100] loss: 0.064\n",
            "[35,   100] loss: 0.038\n",
            "[36,   100] loss: 0.056\n",
            "[37,   100] loss: 0.043\n",
            "[38,   100] loss: 0.041\n",
            "Epoch 00068: reducing learning rate of group 0 to 3.2768e-04.\n",
            "[39,   100] loss: 0.029\n",
            "[40,   100] loss: 0.025\n",
            "Finished training\n",
            "Accuracy of the network on the test images: 78 %\n"
          ]
        }
      ]
    },
    {
      "cell_type": "code",
      "source": [
        "torch.save(model.state_dict(), '/content/drive/MyDrive/images/mobile_best_weights1')"
      ],
      "metadata": {
        "id": "oWCjyVrjPOyO"
      },
      "execution_count": 20,
      "outputs": []
    },
    {
      "cell_type": "code",
      "source": [],
      "metadata": {
        "id": "QbmgZOvQnCb6"
      },
      "execution_count": null,
      "outputs": []
    }
  ]
}